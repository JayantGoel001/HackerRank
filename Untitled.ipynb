{
 "cells": [
  {
   "cell_type": "code",
   "execution_count": null,
   "metadata": {},
   "outputs": [],
   "source": [
    "import subprocess as cmd\n",
    "import time\n",
    "import threading"
   ]
  },
  {
   "cell_type": "code",
   "execution_count": null,
   "metadata": {},
   "outputs": [],
   "source": [
    "def run(*args):\n",
    "\n",
    "    return cmd.check_call(['git'] + list(args))"
   ]
  },
  {
   "cell_type": "code",
   "execution_count": 3,
   "metadata": {},
   "outputs": [],
   "source": [
    "import json"
   ]
  },
  {
   "cell_type": "code",
   "execution_count": 4,
   "metadata": {},
   "outputs": [],
   "source": [
    "file = {}\n",
    "with open(\"../JayantGoel001_data.json\",\"r+\") as f:\n",
    "    file = json.load(f)"
   ]
  },
  {
   "cell_type": "code",
   "execution_count": null,
   "metadata": {},
   "outputs": [],
   "source": [
    "cp = None\n",
    "def background_calculation():\n",
    "    global cp\n",
    "    cp = cmd.run(\"git add .\",check=True,shell=True)\n",
    "\n",
    "cp2 = None\n",
    "def background_calculation2():\n",
    "    global cp2\n",
    "    cp2 = run(\"commit\", \"-am\", 'Initial Commit')\n",
    "#     cp2 = cmd.run(\"git commit -m 'Initial Commmit'\",check=True,shell=True)"
   ]
  },
  {
   "cell_type": "code",
   "execution_count": null,
   "metadata": {},
   "outputs": [
    {
     "name": "stderr",
     "output_type": "stream",
     "text": [
      "Exception in thread Thread-7:\n",
      "Traceback (most recent call last):\n",
      "  File \"C:\\Users\\jgoel\\anaconda3\\lib\\threading.py\", line 932, in _bootstrap_inner\n",
      "    self.run()\n",
      "  File \"C:\\Users\\jgoel\\anaconda3\\lib\\threading.py\", line 870, in run\n",
      "    self._target(*self._args, **self._kwargs)\n",
      "  File \"<ipython-input-5-e221dd620b77>\", line 10, in background_calculation2\n",
      "  File \"C:\\Users\\jgoel\\anaconda3\\lib\\subprocess.py\", line 512, in run\n",
      "    raise CalledProcessError(retcode, process.args,\n",
      "subprocess.CalledProcessError: Command 'git commit -m 'Initial Commmit'' returned non-zero exit status 1.\n"
     ]
    }
   ],
   "source": [
    "count=0\n",
    "s=set()\n",
    "thread = threading.Thread(target=background_calculation)\n",
    "thread.start()\n",
    "\n",
    "thread2 = threading.Thread(target=background_calculation2)\n",
    "thread2.start()\n",
    "for sub in file['submissions']:\n",
    "    s.add(sub['language'])\n",
    "    if sub['language'] in l and sub['score']==1.0: \n",
    "        with open(sub['challenge'].replace(\":\",\"\").replace(\"?\",\"\").replace(\"\\'\",'').replace(\"\\\"\",'') + l[sub['language']],'w+') as f:\n",
    "            f.write(sub['code'])\n",
    "            \n",
    "        \n",
    "        while cp is None:\n",
    "            time.sleep(1)\n",
    "        cp = None\n",
    "        \n",
    "        while cp2 is None:\n",
    "            time.sleep(1)\n",
    "        cp2 = None"
   ]
  },
  {
   "cell_type": "code",
   "execution_count": 6,
   "metadata": {},
   "outputs": [],
   "source": [
    "l = {'c':'.c','cpp':'.cpp','cpp14':'.cpp','java':'.java','java8':'.java','javascript':'.js','pypy':'.py','python':'.py','python3':'.py'}"
   ]
  },
  {
   "cell_type": "code",
   "execution_count": 7,
   "metadata": {},
   "outputs": [
    {
     "data": {
      "text/plain": [
       "{'c': '.c',\n",
       " 'cpp': '.cpp',\n",
       " 'cpp14': '.cpp',\n",
       " 'java': '.java',\n",
       " 'java8': '.java',\n",
       " 'javascript': '.js',\n",
       " 'pypy': '.py',\n",
       " 'python': '.py',\n",
       " 'python3': '.py'}"
      ]
     },
     "execution_count": 7,
     "metadata": {},
     "output_type": "execute_result"
    }
   ],
   "source": [
    "l"
   ]
  },
  {
   "cell_type": "code",
   "execution_count": 8,
   "metadata": {},
   "outputs": [
    {
     "data": {
      "text/plain": [
       "CompletedProcess(args='git push -u origin master -f', returncode=0)"
      ]
     },
     "execution_count": 8,
     "metadata": {},
     "output_type": "execute_result"
    }
   ],
   "source": [
    "cmd.run(\"git push -u origin master -f\",check=True,shell=True)"
   ]
  },
  {
   "cell_type": "code",
   "execution_count": 9,
   "metadata": {},
   "outputs": [
    {
     "data": {
      "text/plain": [
       "0"
      ]
     },
     "execution_count": 9,
     "metadata": {},
     "output_type": "execute_result"
    }
   ],
   "source": [
    "count"
   ]
  },
  {
   "cell_type": "code",
   "execution_count": 10,
   "metadata": {},
   "outputs": [
    {
     "data": {
      "text/plain": [
       "{'python3'}"
      ]
     },
     "execution_count": 10,
     "metadata": {},
     "output_type": "execute_result"
    }
   ],
   "source": [
    "s"
   ]
  },
  {
   "cell_type": "code",
   "execution_count": null,
   "metadata": {},
   "outputs": [],
   "source": []
  }
 ],
 "metadata": {
  "kernelspec": {
   "display_name": "Python 3",
   "language": "python",
   "name": "python3"
  },
  "language_info": {
   "codemirror_mode": {
    "name": "ipython",
    "version": 3
   },
   "file_extension": ".py",
   "mimetype": "text/x-python",
   "name": "python",
   "nbconvert_exporter": "python",
   "pygments_lexer": "ipython3",
   "version": "3.8.5"
  }
 },
 "nbformat": 4,
 "nbformat_minor": 4
}
