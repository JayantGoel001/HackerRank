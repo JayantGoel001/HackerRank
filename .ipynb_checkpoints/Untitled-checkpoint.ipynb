{
 "cells": [
  {
   "cell_type": "code",
   "execution_count": 60,
   "metadata": {},
   "outputs": [],
   "source": [
    "import subprocess as cmd\n",
    "import time"
   ]
  },
  {
   "cell_type": "code",
   "execution_count": 61,
   "metadata": {},
   "outputs": [],
   "source": [
    "def run(*args):\n",
    "\n",
    "    return cmd.check_call(['git'] + list(args))"
   ]
  },
  {
   "cell_type": "code",
   "execution_count": 62,
   "metadata": {},
   "outputs": [],
   "source": [
    "import json"
   ]
  },
  {
   "cell_type": "code",
   "execution_count": 63,
   "metadata": {},
   "outputs": [],
   "source": [
    "file = {}\n",
    "with open(\"../JayantGoel001_data.json\",\"r+\") as f:\n",
    "    file = json.load(f)"
   ]
  },
  {
   "cell_type": "code",
   "execution_count": null,
   "metadata": {},
   "outputs": [],
   "source": [
    "count=0\n",
    "s=set()\n",
    "for sub in file['submissions']:\n",
    "    s.add(sub['language'])\n",
    "    if sub['language'] in l.keys() and sub['score']==1.0: \n",
    "        with open(sub['challenge'].replace(\":\",\"\").replace(\"?\",\"\").replace(\"\\'\",'').replace(\"\\\"\",'') + l[sub['language']],'w+') as f:\n",
    "            f.write(sub['code'])\n",
    "            cmd.run(\"git add .\",check=True,shell=True)\n",
    "            run(\"commit\", \"-am\", 'Initial Commit')\n",
    "            time.sleep(2000)"
   ]
  },
  {
   "cell_type": "code",
   "execution_count": 44,
   "metadata": {},
   "outputs": [],
   "source": [
    "l = {'c':'.c','cpp':'.cpp','cpp14':'.cpp','java':'.java','java8':'.java','javascript':'.js','pypy':'.py','python':'.py','python3':'.py'}"
   ]
  },
  {
   "cell_type": "code",
   "execution_count": 45,
   "metadata": {},
   "outputs": [
    {
     "data": {
      "text/plain": [
       "{'c': '.c',\n",
       " 'cpp': '.cpp',\n",
       " 'cpp14': '.cpp',\n",
       " 'java': '.java',\n",
       " 'java8': '.java',\n",
       " 'javascript': '.js',\n",
       " 'pypy': '.py',\n",
       " 'python': '.py',\n",
       " 'python3': '.py'}"
      ]
     },
     "execution_count": 45,
     "metadata": {},
     "output_type": "execute_result"
    }
   ],
   "source": [
    "l"
   ]
  },
  {
   "cell_type": "code",
   "execution_count": 58,
   "metadata": {},
   "outputs": [
    {
     "data": {
      "text/plain": [
       "CompletedProcess(args='git push -u origin master -f', returncode=0)"
      ]
     },
     "execution_count": 58,
     "metadata": {},
     "output_type": "execute_result"
    }
   ],
   "source": [
    "cmd.run(\"git push -u origin master -f\",check=True,shell=True)"
   ]
  },
  {
   "cell_type": "code",
   "execution_count": 46,
   "metadata": {},
   "outputs": [
    {
     "data": {
      "text/plain": [
       "613"
      ]
     },
     "execution_count": 46,
     "metadata": {},
     "output_type": "execute_result"
    }
   ],
   "source": [
    "count"
   ]
  },
  {
   "cell_type": "code",
   "execution_count": 47,
   "metadata": {},
   "outputs": [
    {
     "data": {
      "text/plain": [
       "{'[\"html\", \"js\", \"css\"]',\n",
       " 'bash',\n",
       " 'c',\n",
       " 'cpp',\n",
       " 'cpp14',\n",
       " 'haskell',\n",
       " 'java',\n",
       " 'java8',\n",
       " 'javascript',\n",
       " 'mysql',\n",
       " 'perl',\n",
       " 'pypy',\n",
       " 'python',\n",
       " 'python3',\n",
       " 'ruby',\n",
       " 'scala',\n",
       " 'text'}"
      ]
     },
     "execution_count": 47,
     "metadata": {},
     "output_type": "execute_result"
    }
   ],
   "source": [
    "s"
   ]
  },
  {
   "cell_type": "code",
   "execution_count": null,
   "metadata": {},
   "outputs": [],
   "source": []
  }
 ],
 "metadata": {
  "kernelspec": {
   "display_name": "Python 3",
   "language": "python",
   "name": "python3"
  },
  "language_info": {
   "codemirror_mode": {
    "name": "ipython",
    "version": 3
   },
   "file_extension": ".py",
   "mimetype": "text/x-python",
   "name": "python",
   "nbconvert_exporter": "python",
   "pygments_lexer": "ipython3",
   "version": "3.8.5"
  }
 },
 "nbformat": 4,
 "nbformat_minor": 4
}
